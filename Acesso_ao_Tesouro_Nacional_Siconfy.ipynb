{
  "nbformat": 4,
  "nbformat_minor": 0,
  "metadata": {
    "colab": {
      "provenance": []
    },
    "kernelspec": {
      "name": "ir",
      "display_name": "R"
    },
    "language_info": {
      "name": "R"
    }
  },
  "cells": [
    {
      "cell_type": "code",
      "source": [
        "\n",
        "library(httr)\n",
        "\n",
        "library(jsonlite)\n",
        "library(stringr)\n",
        "library(dplyr)\n",
        "library(tidyr)"
      ],
      "metadata": {
        "id": "9UT8xYzHa9-_"
      },
      "execution_count": null,
      "outputs": []
    },
    {
      "cell_type": "code",
      "execution_count": null,
      "metadata": {
        "colab": {
          "base_uri": "https://localhost:8080/",
          "height": 210
        },
        "id": "GwgPmlK4anyy",
        "outputId": "c34ed5a8-b62a-4f40-999e-ea90238a25d5"
      },
      "outputs": [
        {
          "output_type": "error",
          "ename": "ERROR",
          "evalue": "ignored",
          "traceback": [
            "Error in curl::curl_fetch_memory(url, handle = handle): Timeout was reached: [apidatalake.tesouro.gov.br] Connection timeout after 10000 ms\nTraceback:\n",
            "1. GET(chamada_api_rreo)",
            "2. request_perform(req, hu$handle$handle)",
            "3. request_fetch(req$output, req$url, handle)",
            "4. request_fetch.write_memory(req$output, req$url, handle)",
            "5. curl::curl_fetch_memory(url, handle = handle)"
          ]
        }
      ],
      "source": [
        "\n",
        "library(httr)\n",
        "\n",
        "library(jsonlite)\n",
        "library(stringr)\n",
        "library(dplyr)\n",
        "library(tidyr)\n",
        "\n",
        "base_url_rreo <- \"apidatalake.tesouro.gov.br/ords/siconfi/tt/rreo?\"\n",
        "\n",
        "# parâmetros de consulata ao RREO\n",
        "ano <- \"2019\"\n",
        "bimestre <- \"1\"\n",
        "tipo_relatorio <- \"RREO\"\n",
        "num_anexo <- \"RREO-Anexo+01\"\n",
        "ente <- \"3304557\"\n",
        "\n",
        "# montar a chamada à API\n",
        "chamada_api_rreo <- paste(base_url_rreo,\n",
        "                          \"an_exercicio=\", ano, \"&\",\n",
        "                          \"nr_periodo=\", bimestre, \"&\",\n",
        "                          \"co_tipo_demonstrativo=\", tipo_relatorio, \"&\",\n",
        "                          \"no_anexo=\", num_anexo, \"&\",\n",
        "                          \"id_ente=\", ente, sep = \"\")\n",
        "\n",
        "\n",
        "rreo <- GET(chamada_api_rreo)\n",
        "\n",
        "status_code(rreo)\n"
      ]
    },
    {
      "cell_type": "code",
      "source": [
        "library(httr)\n",
        "library(jsonlite)\n",
        "library(stringr)\n",
        "library(dplyr)\n",
        "library(tidyr)\n",
        "\n",
        "base_url_rreo <- \"https://apidatalake.tesouro.gov.br/ords/siconfi/tt/rreo?\"\n",
        "\n",
        "# parâmetros de consulta ao RREO\n",
        "ano <- \"2019\"\n",
        "bimestre <- \"1\"\n",
        "tipo_relatorio <- \"RREO\"\n",
        "num_anexo <- \"RREO-Anexo+01\"\n",
        "ente <- \"3304557\"\n",
        "\n",
        "# montar a chamada à API\n",
        "chamada_api_rreo <- paste(base_url_rreo,\n",
        "                          \"an_exercicio=\", ano, \"&\",\n",
        "                          \"nr_periodo=\", bimestre, \"&\",\n",
        "                          \"co_tipo_demonstrativo=\", tipo_relatorio, \"&\",\n",
        "                          \"no_anexo=\", num_anexo, \"&\",\n",
        "                          \"id_ente=\", ente, sep = \"\")\n",
        "\n",
        "# Adicionando timeout de 10 segundos\n",
        "rreo <- GET(chamada_api_rreo, timeout(30))\n",
        "\n",
        "\n",
        "# Verifica se a requisição foi bem-sucedida (status code 200)\n",
        "if (http_status(rreo)$status == 200) {\n",
        "  # Extrai o conteúdo da resposta e limita a 100 primeiras linhas\n",
        "  dados_rreo <- content(rreo, \"text\") %>%\n",
        "    fromJSON() %>%\n",
        "    head(100)\n",
        "\n",
        "  # Exibe os dados\n",
        "  print(dados_rreo)\n",
        "} else {\n",
        "  # Se a requisição não foi bem-sucedida, exibe o status code\n",
        "  print(http_status(rreo)$status)\n",
        "}\n"
      ],
      "metadata": {
        "colab": {
          "base_uri": "https://localhost:8080/",
          "height": 210
        },
        "id": "c7117-yHb7rx",
        "outputId": "75938443-7b02-40e5-a873-05938221ae3a"
      },
      "execution_count": null,
      "outputs": [
        {
          "output_type": "error",
          "ename": "ERROR",
          "evalue": "ignored",
          "traceback": [
            "Error in curl::curl_fetch_memory(url, handle = handle): Timeout was reached: [apidatalake.tesouro.gov.br] Connection timeout after 10001 ms\nTraceback:\n",
            "1. GET(chamada_api_rreo, timeout(30))",
            "2. request_perform(req, hu$handle$handle)",
            "3. request_fetch(req$output, req$url, handle)",
            "4. request_fetch.write_memory(req$output, req$url, handle)",
            "5. curl::curl_fetch_memory(url, handle = handle)"
          ]
        }
      ]
    },
    {
      "cell_type": "code",
      "source": [
        "import requests\n",
        "\n",
        "url = \"https://apidatalake.tesouro.gov.br/ords/siconfi/tt/rreo?an_exercicio=2022&nr_periodo=1&co_tipo_demonstrativo=RREO&no_anexo=RREO-Anexo%2003&id_ente=1100205\"\n",
        "\n",
        "requests.get(url)"
      ],
      "metadata": {
        "colab": {
          "base_uri": "https://localhost:8080/",
          "height": 140
        },
        "id": "oMzc57h3mkir",
        "outputId": "6366452e-cfbe-4aa8-a5e0-6ee6e4ea4f6b"
      },
      "execution_count": null,
      "outputs": [
        {
          "output_type": "error",
          "ename": "ERROR",
          "evalue": "ignored",
          "traceback": [
            "Error in parse(text = x, srcfile = src): <text>:1:8: unexpected symbol\n1: import requests\n           ^\nTraceback:\n"
          ]
        }
      ]
    },
    {
      "cell_type": "code",
      "source": [
        "rreo_txt <- content(rreo, as=\"text\", encoding=\"UTF-8\")\n",
        "Feita a extração do conteúdo temos que converter estes dados para um data frame para que possamos utilizá-lo em análises posteriores.\n",
        "\n",
        "rreo_json <- fromJSON(rreo_txt, flatten = FALSE)\n",
        "Feita a extração, vamos agora para o passo 4: converter os dados para um data frame.\n",
        "\n",
        "rreo_df <- as.data.frame(rreo_json[[\"items\"]])\n",
        "Podemos agora inspecionar os dados obtidos:\n",
        "\n",
        "knitr::kable(head(rreo_df))"
      ],
      "metadata": {
        "id": "LtWAhfzJavlO"
      },
      "execution_count": null,
      "outputs": []
    }
  ]
}